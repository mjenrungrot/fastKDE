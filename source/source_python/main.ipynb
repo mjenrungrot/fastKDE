{
 "cells": [
  {
   "cell_type": "code",
   "execution_count": 1,
   "metadata": {
    "ExecuteTime": {
     "end_time": "2019-04-01T04:09:27.499854Z",
     "start_time": "2019-04-01T04:09:26.478179Z"
    }
   },
   "outputs": [],
   "source": [
    "import time\n",
    "import statistics\n",
    "import itertools\n",
    "import operator\n",
    "import numpy as np\n",
    "import matplotlib.pyplot as plt\n",
    "from KDEpy import FFTKDE\n",
    "from scipy.stats import norm"
   ]
  },
  {
   "cell_type": "code",
   "execution_count": 2,
   "metadata": {
    "ExecuteTime": {
     "end_time": "2019-04-01T04:09:27.974268Z",
     "start_time": "2019-04-01T04:09:27.963798Z"
    }
   },
   "outputs": [],
   "source": [
    "import pyximport; pyximport.install()\n",
    "import ckdtree"
   ]
  },
  {
   "cell_type": "code",
   "execution_count": null,
   "metadata": {
    "ExecuteTime": {
     "end_time": "2019-02-22T23:28:38.642066Z",
     "start_time": "2019-02-22T23:28:38.632755Z"
    }
   },
   "outputs": [],
   "source": [
    "def time_function(function, n=10, t=25):\n",
    "    times = []\n",
    "    for _ in range(t):\n",
    "        data = np.random.randn(n) * 10\n",
    "        weights = np.random.randn(n) ** 2\n",
    "        start_time = time.perf_counter()\n",
    "        function(data, weights)\n",
    "        times.append(time.perf_counter() - start_time)\n",
    "    return statistics.mean(times)"
   ]
  },
  {
   "cell_type": "code",
   "execution_count": null,
   "metadata": {
    "ExecuteTime": {
     "end_time": "2019-02-22T23:28:38.980507Z",
     "start_time": "2019-02-22T23:28:38.976514Z"
    }
   },
   "outputs": [],
   "source": [
    "def time_FFT(data, weights):\n",
    "    x, y = FFTKDE().fit(data, weights)()"
   ]
  },
  {
   "cell_type": "code",
   "execution_count": null,
   "metadata": {
    "ExecuteTime": {
     "end_time": "2019-02-22T23:28:39.111734Z",
     "start_time": "2019-02-22T23:28:39.108673Z"
    }
   },
   "outputs": [],
   "source": [
    "# Generate sizes [5, 10, 50, 100, ..., 10_000_000]\n",
    "data_sizes = list(itertools.accumulate([5, 2] * 7, operator.mul))"
   ]
  },
  {
   "cell_type": "code",
   "execution_count": null,
   "metadata": {
    "ExecuteTime": {
     "end_time": "2019-02-22T23:29:25.625361Z",
     "start_time": "2019-02-22T23:28:39.246290Z"
    }
   },
   "outputs": [],
   "source": [
    "times_fft = [time_function(time_FFT, k) for k in data_sizes]\n",
    "plt.loglog(data_sizes, times_fft, label='FFTKDE')\n",
    "\n",
    "plt.xlabel('Number of data points $N$')\n",
    "plt.ylabel('Average time $t$')\n",
    "plt.grid(True);"
   ]
  },
  {
   "cell_type": "code",
   "execution_count": null,
   "metadata": {
    "ExecuteTime": {
     "end_time": "2019-02-22T23:33:36.367914Z",
     "start_time": "2019-02-22T23:33:36.009386Z"
    }
   },
   "outputs": [],
   "source": [
    "np.random.seed(123)\n",
    "distribution = norm()  # Create normal distribution\n",
    "data = distribution.rvs(32)\n",
    "\n",
    "# Use a box function with the FFTKDE to obtain a density estimate\n",
    "x, y = FFTKDE(kernel='box', bw=0.7).fit(data).evaluate()\n",
    "\n",
    "plt.plot(x, y, zorder=10, color='#ff7f0e', label='KDE with box kernel')\n",
    "plt.scatter(data, np.zeros_like(data), marker='|', c='r',\n",
    "            label='Data', zorder=9)\n",
    "plt.hist(data, density=True, label='Histogram', edgecolor='#1f77b4', color='w')\n",
    "plt.plot(x, distribution.pdf(x), label='True pdf', c='r', ls='--')\n",
    "plt.legend(loc='best');"
   ]
  },
  {
   "cell_type": "code",
   "execution_count": null,
   "metadata": {
    "ExecuteTime": {
     "end_time": "2019-02-22T23:36:52.996439Z",
     "start_time": "2019-02-22T23:36:52.581788Z"
    }
   },
   "outputs": [],
   "source": [
    "# Use a box function with the FFTKDE to obtain a density estimate\n",
    "x, y = FFTKDE(kernel='gaussian', bw=0.7).fit(data).evaluate()\n",
    "\n",
    "plt.plot(x, y, zorder=10, color='#ff7f0e', label='KDE with gaussian kernel')\n",
    "plt.scatter(data, np.zeros_like(data), marker='|', c='r',\n",
    "            label='Data', zorder=9)\n",
    "plt.hist(data, density=True, label='Histogram', edgecolor='#1f77b4', color='w')\n",
    "plt.plot(x, distribution.pdf(x), label='True pdf', c='r', ls='--')\n",
    "plt.legend(loc='best');"
   ]
  },
  {
   "cell_type": "code",
   "execution_count": null,
   "metadata": {
    "ExecuteTime": {
     "end_time": "2019-02-22T23:36:18.587344Z",
     "start_time": "2019-02-22T23:36:18.582091Z"
    }
   },
   "outputs": [],
   "source": [
    "?FFTKDE"
   ]
  },
  {
   "cell_type": "code",
   "execution_count": null,
   "metadata": {},
   "outputs": [],
   "source": []
  }
 ],
 "metadata": {
  "kernelspec": {
   "display_name": "Python 3",
   "language": "python",
   "name": "python3"
  },
  "language_info": {
   "codemirror_mode": {
    "name": "ipython",
    "version": 3
   },
   "file_extension": ".py",
   "mimetype": "text/x-python",
   "name": "python",
   "nbconvert_exporter": "python",
   "pygments_lexer": "ipython3",
   "version": "3.6.4"
  },
  "latex_envs": {
   "LaTeX_envs_menu_present": true,
   "autoclose": false,
   "autocomplete": true,
   "bibliofile": "biblio.bib",
   "cite_by": "apalike",
   "current_citInitial": 1,
   "eqLabelWithNumbers": true,
   "eqNumInitial": 1,
   "hotkeys": {
    "equation": "Ctrl-E",
    "itemize": "Ctrl-I"
   },
   "labels_anchors": false,
   "latex_user_defs": false,
   "report_style_numbering": false,
   "user_envs_cfg": false
  },
  "toc": {
   "base_numbering": 1,
   "nav_menu": {},
   "number_sections": true,
   "sideBar": true,
   "skip_h1_title": false,
   "title_cell": "Table of Contents",
   "title_sidebar": "Contents",
   "toc_cell": false,
   "toc_position": {},
   "toc_section_display": true,
   "toc_window_display": false
  },
  "varInspector": {
   "cols": {
    "lenName": 16,
    "lenType": 16,
    "lenVar": 40
   },
   "kernels_config": {
    "python": {
     "delete_cmd_postfix": "",
     "delete_cmd_prefix": "del ",
     "library": "var_list.py",
     "varRefreshCmd": "print(var_dic_list())"
    },
    "r": {
     "delete_cmd_postfix": ") ",
     "delete_cmd_prefix": "rm(",
     "library": "var_list.r",
     "varRefreshCmd": "cat(var_dic_list()) "
    }
   },
   "types_to_exclude": [
    "module",
    "function",
    "builtin_function_or_method",
    "instance",
    "_Feature"
   ],
   "window_display": false
  }
 },
 "nbformat": 4,
 "nbformat_minor": 2
}
