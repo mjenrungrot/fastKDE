{
 "cells": [
  {
   "cell_type": "markdown",
   "metadata": {},
   "source": [
    "# Fast and Accurate Kernel Density Estimation using Nearest Neighbor Data Structures\n",
    "\n",
    "This file contains the code used for (1) generating the data, (2) running the methods, and (3) plotting the final results."
   ]
  },
  {
   "cell_type": "code",
   "execution_count": 1,
   "metadata": {
    "ExecuteTime": {
     "end_time": "2019-04-22T22:58:38.352103Z",
     "start_time": "2019-04-22T22:58:37.246468Z"
    }
   },
   "outputs": [],
   "source": [
    "import glob\n",
    "import time\n",
    "import os\n",
    "import sys\n",
    "import random\n",
    "import subprocess\n",
    "import numpy as np\n",
    "import scipy.stats\n",
    "import matplotlib.pyplot as plt"
   ]
  },
  {
   "cell_type": "code",
   "execution_count": 2,
   "metadata": {
    "ExecuteTime": {
     "end_time": "2019-04-22T22:58:38.357567Z",
     "start_time": "2019-04-22T22:58:38.354256Z"
    }
   },
   "outputs": [],
   "source": [
    "# Set the global seed\n",
    "np.random.seed(0)"
   ]
  },
  {
   "cell_type": "code",
   "execution_count": 3,
   "metadata": {
    "ExecuteTime": {
     "end_time": "2019-04-22T22:58:38.364068Z",
     "start_time": "2019-04-22T22:58:38.359732Z"
    }
   },
   "outputs": [],
   "source": [
    "# Parameter settings\n",
    "n_mixtures = 10\n",
    "n_points = 100000\n",
    "n_digits = 5\n",
    "dimensions = [2, 4, 8, 16, 32, 64]"
   ]
  },
  {
   "cell_type": "code",
   "execution_count": 4,
   "metadata": {
    "ExecuteTime": {
     "end_time": "2019-04-22T22:58:38.373874Z",
     "start_time": "2019-04-22T22:58:38.368090Z"
    }
   },
   "outputs": [],
   "source": [
    "data_path = './data'\n",
    "cpp_source_path = './source/source_C++'\n",
    "output_path ='./output'"
   ]
  },
  {
   "cell_type": "markdown",
   "metadata": {},
   "source": [
    "## Generating the data\n",
    "\n",
    "This part generates Gaussian random data of size $10^5$ with $10$ mixtures."
   ]
  },
  {
   "cell_type": "code",
   "execution_count": 5,
   "metadata": {
    "ExecuteTime": {
     "end_time": "2019-04-22T22:58:50.360624Z",
     "start_time": "2019-04-22T22:58:38.378411Z"
    }
   },
   "outputs": [
    {
     "name": "stdout",
     "output_type": "stream",
     "text": [
      "Writing 2d.txt successfully\n",
      "Writing 4d.txt successfully\n",
      "Writing 8d.txt successfully\n",
      "Writing 16d.txt successfully\n",
      "Writing 32d.txt successfully\n",
      "Writing 64d.txt successfully\n"
     ]
    }
   ],
   "source": [
    "dists = []\n",
    "for dimension in dimensions:\n",
    "    data = []\n",
    "    for mixture_id in range(n_mixtures):\n",
    "        mean_vector = np.random.rand(dimension)\n",
    "        rand_matrix = np.random.rand(dimension,dimension)\n",
    "        cov_matrix = rand_matrix @ rand_matrix.T # Guarantee PSD condition\n",
    "        data.append(np.random.multivariate_normal(mean=mean_vector, cov=cov_matrix, size=n_points//n_mixtures))\n",
    "    \n",
    "    data = np.vstack(data)\n",
    "    data = np.round(data, n_digits) # rounding\n",
    "    np.random.shuffle(data)     \n",
    "    \n",
    "    if not os.path.exists(data_path):\n",
    "        os.makedirs(data_path)\n",
    "    \n",
    "    # Write to file\n",
    "    filename = '{:}d.txt'.format(dimension)\n",
    "    f = open(os.path.join(data_path, filename), 'w')\n",
    "    for r in range(data.shape[0]):\n",
    "        f.write(\" \".join(map(str, data[r,:].tolist())) + \"\\n\")\n",
    "\n",
    "    print(\"Writing {:} successfully\".format(filename))"
   ]
  },
  {
   "cell_type": "markdown",
   "metadata": {},
   "source": [
    "## Running the proposed method"
   ]
  },
  {
   "cell_type": "code",
   "execution_count": 6,
   "metadata": {
    "ExecuteTime": {
     "end_time": "2019-04-22T23:14:22.179927Z",
     "start_time": "2019-04-22T23:14:22.175369Z"
    }
   },
   "outputs": [],
   "source": [
    "if not os.path.exists(output_path):\n",
    "    os.makedirs(output_path)"
   ]
  },
  {
   "cell_type": "code",
   "execution_count": 7,
   "metadata": {
    "ExecuteTime": {
     "end_time": "2019-04-22T23:14:25.018080Z",
     "start_time": "2019-04-22T23:14:22.454762Z"
    }
   },
   "outputs": [
    {
     "data": {
      "text/plain": [
       "0"
      ]
     },
     "execution_count": 7,
     "metadata": {},
     "output_type": "execute_result"
    }
   ],
   "source": [
    "# Compile the source\n",
    "subprocess.call(['make', '-C', cpp_source_path, 'clean'])\n",
    "subprocess.call(['make', '-C', cpp_source_path])"
   ]
  },
  {
   "cell_type": "code",
   "execution_count": 8,
   "metadata": {
    "ExecuteTime": {
     "start_time": "2019-04-22T23:14:44.565Z"
    }
   },
   "outputs": [
    {
     "name": "stdout",
     "output_type": "stream",
     "text": [
      "Benchmarking ./data/2d.txt\n",
      "Benchmarking ./data/2d.txt took 8935.386412563268 sec\n",
      "Benchmarking ./data/4d.txt\n",
      "Benchmarking ./data/4d.txt took 5677.770339895971 sec\n",
      "Benchmarking ./data/8d.txt\n",
      "Benchmarking ./data/8d.txt took 6712.266199314967 sec\n",
      "Benchmarking ./data/16d.txt\n",
      "Benchmarking ./data/16d.txt took 1856.4596596793272 sec\n",
      "Benchmarking ./data/32d.txt\n",
      "Benchmarking ./data/32d.txt took 1051.8898305860348 sec\n",
      "Benchmarking ./data/64d.txt\n",
      "Benchmarking ./data/64d.txt took 1420.4419205570593 sec\n"
     ]
    }
   ],
   "source": [
    "for dimension in dimensions:\n",
    "    data_filepath = os.path.join(data_path, '{:}d.txt'.format(dimension))\n",
    "    print(\"Benchmarking {:}\".format(data_filepath))\n",
    "    start_time = time.perf_counter()\n",
    "    subprocess.call(['./{:}'.format(os.path.join(cpp_source_path, 'experiments')),\n",
    "                             data_filepath,\n",
    "                             os.path.join(output_path,'{:}d'.format(dimension)),\n",
    "                             str(dimension)])\n",
    "    end_time = time.perf_counter()\n",
    "    print(\"Benchmarking {:} took {:} sec\".format(data_filepath, end_time-start_time))"
   ]
  },
  {
   "cell_type": "markdown",
   "metadata": {},
   "source": [
    "## Running other methods"
   ]
  },
  {
   "cell_type": "code",
   "execution_count": 9,
   "metadata": {
    "ExecuteTime": {
     "end_time": "2019-04-22T23:00:31.367993Z",
     "start_time": "2019-04-22T23:00:31.364715Z"
    }
   },
   "outputs": [],
   "source": [
    "python_source_path = './source/source_python'"
   ]
  },
  {
   "cell_type": "markdown",
   "metadata": {},
   "source": [
    "## Obtaining results"
   ]
  },
  {
   "cell_type": "code",
   "execution_count": null,
   "metadata": {},
   "outputs": [],
   "source": []
  }
 ],
 "metadata": {
  "kernelspec": {
   "display_name": "Python 3",
   "language": "python",
   "name": "python3"
  },
  "language_info": {
   "codemirror_mode": {
    "name": "ipython",
    "version": 3
   },
   "file_extension": ".py",
   "mimetype": "text/x-python",
   "name": "python",
   "nbconvert_exporter": "python",
   "pygments_lexer": "ipython3",
   "version": "3.6.6"
  },
  "latex_envs": {
   "LaTeX_envs_menu_present": true,
   "autoclose": false,
   "autocomplete": true,
   "bibliofile": "biblio.bib",
   "cite_by": "apalike",
   "current_citInitial": 1,
   "eqLabelWithNumbers": true,
   "eqNumInitial": 1,
   "hotkeys": {
    "equation": "Ctrl-E",
    "itemize": "Ctrl-I"
   },
   "labels_anchors": false,
   "latex_user_defs": false,
   "report_style_numbering": false,
   "user_envs_cfg": false
  },
  "toc": {
   "base_numbering": 1,
   "nav_menu": {},
   "number_sections": true,
   "sideBar": true,
   "skip_h1_title": false,
   "title_cell": "Table of Contents",
   "title_sidebar": "Contents",
   "toc_cell": false,
   "toc_position": {},
   "toc_section_display": true,
   "toc_window_display": false
  },
  "varInspector": {
   "cols": {
    "lenName": 16,
    "lenType": 16,
    "lenVar": 40
   },
   "kernels_config": {
    "python": {
     "delete_cmd_postfix": "",
     "delete_cmd_prefix": "del ",
     "library": "var_list.py",
     "varRefreshCmd": "print(var_dic_list())"
    },
    "r": {
     "delete_cmd_postfix": ") ",
     "delete_cmd_prefix": "rm(",
     "library": "var_list.r",
     "varRefreshCmd": "cat(var_dic_list()) "
    }
   },
   "types_to_exclude": [
    "module",
    "function",
    "builtin_function_or_method",
    "instance",
    "_Feature"
   ],
   "window_display": false
  }
 },
 "nbformat": 4,
 "nbformat_minor": 2
}
